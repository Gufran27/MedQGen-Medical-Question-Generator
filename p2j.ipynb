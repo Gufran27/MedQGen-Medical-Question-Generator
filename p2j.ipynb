{
  "cells": [
    {
      "cell_type": "code",
      "execution_count": 11,
      "metadata": {
        "id": "RdUhLbx9Is9D"
      },
      "outputs": [],
      "source": [
        "%%capture\n",
        "!pip install PyPDF2 requests\n",
        "!pip install ollama"
      ]
    },
    {
      "cell_type": "code",
      "execution_count": 12,
      "metadata": {},
      "outputs": [
        {
          "name": "stdout",
          "output_type": "stream",
          "text": [
            "NAME           ID              SIZE      MODIFIED   \n",
            "llama3.1:8b    46e0c10c039e    4.9 GB    9 days ago    \n"
          ]
        }
      ],
      "source": [
        "!ollama list"
      ]
    },
    {
      "cell_type": "code",
      "execution_count": 13,
      "metadata": {
        "id": "aNQrraH0IkI7"
      },
      "outputs": [],
      "source": [
        "import PyPDF2\n",
        "import json\n",
        "import re\n",
        "import os\n",
        "import ollama"
      ]
    },
    {
      "cell_type": "code",
      "execution_count": 14,
      "metadata": {
        "id": "_oPqxENUIxBL"
      },
      "outputs": [],
      "source": [
        "\n",
        "def extract_text_from_pdf(file_path):\n",
        "    text_per_page = []\n",
        "    with open(file_path, \"rb\") as file:\n",
        "        reader = PyPDF2.PdfReader(file)\n",
        "        for page in reader.pages:\n",
        "            text_per_page.append(page.extract_text() if page.extract_text() else \"\")\n",
        "            # print(f\"Extracted page {i+1}: {extracted_text[:100]}...\")     \n",
        "    return text_per_page\n"
      ]
    },
    {
      "cell_type": "code",
      "execution_count": 15,
      "metadata": {
        "id": "Dx9wegxQI1eC"
      },
      "outputs": [],
      "source": [
        "def generate_qa_pairs_with_ollama(text):\n",
        "    prompt = f\"\"\"\n",
        "        You are an expert doctor and a highly intelligent medical chatbot built to provide accurate, detailed, and comprehensive responses based on medical documents. I will provide you with a PDF, such as a medical book or a document, and your task is to carefully read and fully understand every single detail in it. Treat the PDF as your only source of knowledge for this task—do not add anything from outside it or make assumptions beyond what’s written.\n",
        "\n",
        "        Once you’ve understood the PDF, act like a skilled doctor who knows everything about the topic in the document. Your job is to:\n",
        "\n",
        "        1 . Analyze the entire content deeply, including all medical terminology, diseases, causes, risk factors, symptoms, signs, reasons, diagnosis methods, treatments, prevention strategies, and anything else mentioned (like prescriptions or doctor’s advice if included).\n",
        "        2. Extract every piece of information without skipping anything—no matter how small or detailed it is.\n",
        "        3. Based on this understanding, create a set of meaningful questions that cover all aspects of the content in the PDF. These questions should explore the diseases (how they happen, where they come from, what causes them), risk factors, symptoms, signs, diagnosis processes, treatment options, prevention methods, and any other relevant topics like medical terms or prescribed actions.\n",
        "        4. Provide **extremely detailed, accurate, and thorough answers** to each question using only the PDF’s content. Write answers in simple, easy-to-understand language (like explaining to a patient or student) while remaining precise like a doctor. Make answers as long and comprehensive as needed to include every relevant detail from the text—no need to limit length, but keep them focused.\n",
        "        5. Create **as many meaningful questions as you can**—aim for the maximum possible number—by examining every paragraph or section-like part of the PDF. These questions should cover all aspects, such as how diseases occur, their origins, causes, risk factors, symptoms, signs, diagnosis processes, treatments, prevention methods, medical terms, and any specific advice or prescriptions.\n",
        "        6  Each **answer must be detailed (200-250 words max)**\n",
        "        Make sure your responses are complete and thorough. If the PDF mentions a disease, explain its causes, how it develops, what the risks are, how it’s identified, how it’s treated, and how to prevent it. If there’s a prescription or specific medical advice, include that too, exactly as written. Take your time—there’s no rush. Even if the PDF is long, process every page and every line to ensure nothing is missed. Your goal is to demonstrate a deep understanding of the document and provide expert-level insights based solely on it.\"\n",
        "\n",
        "        ### Guidelines:\n",
        "        - Generate ** Q&A pairs**, pulling questions from every paragraph, section, table, or annex.\n",
        "        - Answers must be **extremely detailed and exhaustive**, capturing all knowledge from the relevant part of the document—long answers are encouraged to include every detail.\n",
        "        - **Use only the provided text**—do not include external info or stray from the document’s content.\n",
        "        - Ignore metadata (e.g., publication details, authors) unless it’s medically relevant; focus only on the medical content.\n",
        "        - Process every line, section, table, and annex to ensure nothing is missed.\n",
        "        - Output must be structured as **valid JSON**.\n",
        "\n",
        "            ### Text:\n",
        "        {text}\n",
        "\n",
        "        ### Expected Output (JSON format):\n",
        "        ```json\n",
        "        [\n",
        "        {{\n",
        "            \"question\": \"What is the main cause of this condition based on the document?\",\n",
        "            \"answer\": \"The PDF explains that this condition is mainly caused by an infection that starts in the lungs and spreads due to poor hygiene.\"\n",
        "        }},\n",
        "        {{\n",
        "            \"question\": \"How can this disease be prevented according to the text?\",\n",
        "            \"answer\": \"According to the PDF, preventing this disease involves regular handwashing, avoiding crowded places, and getting vaccinated as recommended.\"\n",
        "        }}\n",
        "        ]\n",
        "        ```\n",
        "        \"\"\"\n",
        "    print(\"Generating response from Ollama...\")\n",
        "    response = ollama.generate(\n",
        "            model=\"llama3.1:8b\",\n",
        "            prompt=prompt,\n",
        "            options={\n",
        "                \"temperature\": 0.5,\n",
        "                \"num_predict\": 10000,\n",
        "                \"top_p\": 0.9,\n",
        "                \"top_k\": 40\n",
        "            }\n",
        "        )\n",
        "\n",
        "    print(\"Raw response from Ollama:\", response)\n",
        "    response_text = response.get(\"response\", \"\").strip()\n",
        "            \n",
        "    if not response_text:\n",
        "            print(\"Error: Ollama returned an empty response.\")\n",
        "    return []\n",
        "\n",
        "    try:\n",
        "            qa_pairs = json.loads(response_text)\n",
        "            if not isinstance(qa_pairs, list):\n",
        "                print(\"Error: Response is not a list of Q&A pairs.\")\n",
        "                return []\n",
        "            print(f\"Generated {len(qa_pairs)} Q&A pairs.\")\n",
        "            return qa_pairs\n",
        "    except json.JSONDecodeError as e:\n",
        "            print(f\"JSON Decode Error: {e}\")\n",
        "            print(\"Full response:\", response_text)\n",
        "            return []\n"
      ]
    },
    {
      "cell_type": "code",
      "execution_count": 16,
      "metadata": {
        "id": "9u7ZuaEEI3hK"
      },
      "outputs": [],
      "source": [
        "def format_qa_pairs(qa_pairs):\n",
        "    formatted_pairs = []\n",
        "    for qa in qa_pairs:\n",
        "        formatted_pairs.append({\n",
        "            \"instruction\": qa[\"question\"],\n",
        "            \"output\": qa[\"answer\"]\n",
        "        })\n",
        "    return formatted_pairs\n"
      ]
    },
    {
      "cell_type": "code",
      "execution_count": 17,
      "metadata": {
        "id": "xbORE0oxI5t6"
      },
      "outputs": [],
      "source": [
        "pdf_paths = [\n",
        "    \"21. Heart attack. Know the symptoms. Take action (Article) Autor National Heart, Lung, and Blood Institute.pdf\"\n",
        "\n",
        "     ]\n",
        "output_dir = \"heart\"\n",
        "\n",
        "os.makedirs(output_dir, exist_ok=True)\n"
      ]
    },
    {
      "cell_type": "code",
      "execution_count": 18,
      "metadata": {
        "colab": {
          "base_uri": "https://localhost:8080/"
        },
        "id": "khaa3-U-I8ZO",
        "outputId": "cdb6e5cd-6f60-4e40-d004-7cc117486b90"
      },
      "outputs": [
        {
          "name": "stdout",
          "output_type": "stream",
          "text": [
            "Processing pages 1 to 5...\n",
            "Generating response from Ollama...\n"
          ]
        }
      ],
      "source": [
        "# pdf_paths = [\n",
        "#     \"16. Trends in Cardiovascular Deaths Autor Australian Institute of Health and Welfare.pdf\"\n",
        "\n",
        "#      ]\n",
        "for pdf in pdf_paths:\n",
        "    all_qa = []\n",
        "    text_chunks = extract_text_from_pdf(pdf)\n",
        "\n",
        "for i in range(0, len(text_chunks), 5):\n",
        "        chunk_text = \"\\n\".join(text_chunks[i:i+5])\n",
        "        print(f\"Processing pages {i+1} to {i+5}...\")\n",
        "\n",
        "        qa_pairs = generate_qa_pairs_with_ollama(chunk_text)\n",
        "        if not qa_pairs:\n",
        "            continue\n",
        "\n",
        "        formatted_pairs = format_qa_pairs(qa_pairs)\n",
        "        all_qa.extend(formatted_pairs)\n",
        "\n",
        "base_name = os.path.splitext(os.path.basename(pdf))[0]\n",
        "safe_name = base_name.replace(\" \", \"_\")\n",
        "output_file_path = os.path.join(output_dir, f\"{safe_name}.json\")\n",
        "\n"
      ]
    },
    {
      "cell_type": "markdown",
      "metadata": {},
      "source": []
    },
    {
      "cell_type": "code",
      "execution_count": 16,
      "metadata": {
        "id": "yg2ayXKWKr3W"
      },
      "outputs": [
        {
          "name": "stdout",
          "output_type": "stream",
          "text": [
            "Saved Q&A to: heart\\16._Trends_in_Cardiovascular_Deaths_Autor_Australian_Institute_of_Health_and_Welfare.json\n"
          ]
        }
      ],
      "source": [
        "with open(output_file_path, \"w\", encoding=\"utf-8\") as f:\n",
        "    json.dump(all_qa, f, indent=2, ensure_ascii=False)\n",
        "print(f\"Saved Q&A to: {output_file_path}\")\n"
      ]
    }
  ],
  "metadata": {
    "accelerator": "GPU",
    "colab": {
      "gpuType": "T4",
      "provenance": []
    },
    "kernelspec": {
      "display_name": "env",
      "language": "python",
      "name": "python3"
    },
    "language_info": {
      "codemirror_mode": {
        "name": "ipython",
        "version": 3
      },
      "file_extension": ".py",
      "mimetype": "text/x-python",
      "name": "python",
      "nbconvert_exporter": "python",
      "pygments_lexer": "ipython3",
      "version": "3.10.11"
    }
  },
  "nbformat": 4,
  "nbformat_minor": 0
}
